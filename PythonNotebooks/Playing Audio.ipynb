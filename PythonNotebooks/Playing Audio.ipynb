{
 "cells": [
  {
   "cell_type": "markdown",
   "metadata": {},
   "source": [
    "## Two arguments: First is path to .sf2, Second is path to mid file"
   ]
  },
  {
   "cell_type": "code",
   "execution_count": 7,
   "metadata": {},
   "outputs": [
    {
     "name": "stdout",
     "output_type": "stream",
     "text": [
      "FluidSynth runtime version 2.0.3\n",
      "Copyright (C) 2000-2019 Peter Hanappe and others.\n",
      "Distributed under the LGPL license.\n",
      "SoundFont(R) is a registered trademark of E-mu Systems, Inc.\n",
      "\n",
      "fluidsynth: error: Unable to open file 'C:\\soundfonts\\default.sf2'\n",
      "fluidsynth: error: Couldn't load soundfont file\n",
      "fluidsynth: error: Failed to load SoundFont \"C:\\soundfonts\\default.sf2\"\n",
      "fluidsynth: warning: No preset found on channel 9 [bank=128 prog=0]\n",
      "fluidsynth: warning: No preset found on channel 9 [bank=128 prog=0]\n"
     ]
    },
    {
     "name": "stderr",
     "output_type": "stream",
     "text": [
      "Parameter 'C:/Users/Anirudh/PycharmProjects/Magenta/FluidR3_GM.sf2.sf2' not a SoundFont or MIDI file or error occurred identifying it.\n"
     ]
    },
    {
     "name": "stdout",
     "output_type": "stream",
     "text": [
      "FluidSynth runtime version 2.0.3\n",
      "Copyright (C) 2000-2019 Peter Hanappe and others.\n",
      "Distributed under the LGPL license.\n",
      "SoundFont(R) is a registered trademark of E-mu Systems, Inc.\n",
      "\n"
     ]
    }
   ],
   "source": [
    "!fluidsynth -g 1 -n -i C:/Users/Anirudh/PycharmProjects/Magenta/FluidR3_GM.sf2 C:\\\\Users\\\\Anirudh\\\\PycharmProjects\\\\Magenta\\\\Data\\\\groove\\\\drummer1\\\\session1\\\\1_funk_80_beat_4-4.mid"
   ]
  },
  {
   "cell_type": "markdown",
   "metadata": {},
   "source": [
    "## following are the paths to the generator files"
   ]
  },
  {
   "cell_type": "code",
   "execution_count": 3,
   "metadata": {},
   "outputs": [],
   "source": [
    "#C:/Users/Anirudh/PycharmProjects/Magenta/FluidR3_GM.sf2\n",
    "#C:/Users/Anirudh/PycharmProjects/Magenta/Standard_Drum_Kit.sf2"
   ]
  }
 ],
 "metadata": {
  "kernelspec": {
   "display_name": "Python 3",
   "language": "python",
   "name": "python3"
  }
 },
 "nbformat": 4,
 "nbformat_minor": 4
}
